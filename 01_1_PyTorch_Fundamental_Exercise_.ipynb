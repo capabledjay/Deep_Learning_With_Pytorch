{
  "nbformat": 4,
  "nbformat_minor": 0,
  "metadata": {
    "colab": {
      "provenance": [],
      "gpuType": "T4",
      "authorship_tag": "ABX9TyMz/epUs1+qCt12faEgPBkm",
      "include_colab_link": true
    },
    "kernelspec": {
      "name": "python3",
      "display_name": "Python 3"
    },
    "language_info": {
      "name": "python"
    },
    "accelerator": "GPU"
  },
  "cells": [
    {
      "cell_type": "markdown",
      "metadata": {
        "id": "view-in-github",
        "colab_type": "text"
      },
      "source": [
        "<a href=\"https://colab.research.google.com/github/capabledjay/Deep_Learning_With_Pytorch/blob/main/01_1_PyTorch_Fundamental_Exercise_.ipynb\" target=\"_parent\"><img src=\"https://colab.research.google.com/assets/colab-badge.svg\" alt=\"Open In Colab\"/></a>"
      ]
    },
    {
      "cell_type": "markdown",
      "source": [
        "All of the exercises are focused on practicing the code from the PyTorch Fundamental lecture notebook.\n",
        "\n",
        "You should be able to complete them by referencing each section or by following the resource(s) linked."
      ],
      "metadata": {
        "id": "24jSNHwavogM"
      }
    },
    {
      "cell_type": "markdown",
      "source": [
        "1. Documentation reading - A big part of deep learning (and learning to code in general) is getting familiar with the documentation of a certain framework you're using. We'll be using the PyTorch documentation a lot throughout the rest of this course. So I'd recommend spending 10-minutes reading the following (it's okay if you don't get some things for now, the focus is not yet full understanding, it's awareness). See the documentation on torch.Tensor and for torch.cuda.\n"
      ],
      "metadata": {
        "id": "2fVGwsAKxe9t"
      }
    },
    {
      "cell_type": "markdown",
      "source": [
        "\n",
        "2. Create a random tensor with shape (7, 7).\n"
      ],
      "metadata": {
        "id": "2YAXCv87xnp7"
      }
    },
    {
      "cell_type": "code",
      "source": [
        "import torch\n",
        "\n",
        "tensor_1 = torch.rand(7,7)\n",
        "tensor_1"
      ],
      "metadata": {
        "id": "szu9PBBnAUNt"
      },
      "execution_count": null,
      "outputs": []
    },
    {
      "cell_type": "markdown",
      "source": [
        "3. Perform a matrix multiplication on the tensor from 2 with another random tensor with shape (1, 7)\n",
        "\n",
        "(hint: you may have to transpose the second tensor)."
      ],
      "metadata": {
        "id": "uHNPmN-0xr35"
      }
    },
    {
      "cell_type": "code",
      "source": [
        "tensor_2 = torch.rand(1,7)\n",
        "mutiplcation = torch.matmul(tensor_1,tensor_2.T) # tensor_2 have to be transposed so that  inner dimensions must match\n",
        "mutiplcation"
      ],
      "metadata": {
        "id": "O_d4E_T2A1xZ"
      },
      "execution_count": null,
      "outputs": []
    },
    {
      "cell_type": "markdown",
      "source": [
        "4. Set the random seed to 0 and do exercises 2 & 3 over again.\n"
      ],
      "metadata": {
        "id": "TqVBF71szFWq"
      }
    },
    {
      "cell_type": "code",
      "source": [
        "torch.manual_seed(seed=0)\n",
        "mutiplcation_1 = torch.matmul(tensor_1,tensor_2.T)\n",
        "mutiplcation_1"
      ],
      "metadata": {
        "id": "IDJUm1dM0o7s"
      },
      "execution_count": null,
      "outputs": []
    },
    {
      "cell_type": "markdown",
      "source": [
        "5. Speaking of random seeds, we saw how to set it with torch.manual_seed() but is there a GPU equivalent? (hint: you'll need to look into the documentation for torch.cuda for this one). If there is, set the GPU random seed to 1234"
      ],
      "metadata": {
        "id": "KtfTsKtYzpe0"
      }
    },
    {
      "cell_type": "code",
      "source": [
        "import torch\n",
        "torch.cuda.is_available() # to check if you're currently running on GPU\n"
      ],
      "metadata": {
        "id": "vBUgBVGE3cwg"
      },
      "execution_count": null,
      "outputs": []
    },
    {
      "cell_type": "code",
      "source": [
        "# Set random seed on the GPU\n",
        "torch.cuda.manual_seed(1234)\n"
      ],
      "metadata": {
        "id": "058jAtmv3TMZ"
      },
      "execution_count": 3,
      "outputs": []
    },
    {
      "cell_type": "markdown",
      "source": [
        "6. Create two random tensors of shape (2, 3) and send them both to the GPU (you'll need access to a GPU for this). Set torch.manual_seed(1234) when creating the tensors (this doesn't have to be the GPU random seed)."
      ],
      "metadata": {
        "id": "HHsdO7nJ2EsE"
      }
    },
    {
      "cell_type": "code",
      "source": [
        "device = \"cuda\" if torch.cuda.is_available() else \"cpu\"\n",
        "\n",
        "torch.cuda.manual_seed(1234)\n",
        "ten_1 = torch.rand(2,3).to(device)\n",
        "\n",
        "torch.cuda.manual_seed(1234)\n",
        "ten_2 = torch.rand(2,3).to(device)\n",
        "\n",
        "print(ten_1)\n",
        "print(ten_2)"
      ],
      "metadata": {
        "id": "oOkM-JiB5QVj"
      },
      "execution_count": null,
      "outputs": []
    },
    {
      "cell_type": "markdown",
      "source": [
        "7. Perform a matrix multiplication on the tensors you created in 6 (again, you may have to adjust the shapes of one of the tensors)."
      ],
      "metadata": {
        "id": "dMklTtNo2HbG"
      }
    },
    {
      "cell_type": "code",
      "source": [
        "torch.cuda.manual_seed(1234)\n",
        "outcome = torch.matmul(ten_1, ten_2.T)\n",
        "outcome\n",
        "# or\n",
        "\n",
        "# torch.cuda.manual_seed(1234)\n",
        "# torch.matmul(ten_1.T, ten_2)\n"
      ],
      "metadata": {
        "id": "sfH48z_-8Lr9"
      },
      "execution_count": null,
      "outputs": []
    },
    {
      "cell_type": "markdown",
      "source": [
        "8. Find the maximum and minimum values of the output of 7."
      ],
      "metadata": {
        "id": "w2kjqZgX2Rlv"
      }
    },
    {
      "cell_type": "code",
      "source": [
        "print(f\"The maximum value from the previous outcome is {outcome.max()}\")\n",
        "print(f\"The minimum value from the previous outcome is {outcome.min()}\")"
      ],
      "metadata": {
        "id": "iBkzYZsU8rjV"
      },
      "execution_count": null,
      "outputs": []
    },
    {
      "cell_type": "markdown",
      "source": [
        "9. Find the maximum and minimum index values of the output of 7"
      ],
      "metadata": {
        "id": "CXDLNvRy2b-F"
      }
    },
    {
      "cell_type": "code",
      "source": [
        "print(f\"The maximum index value from the previous outcome is {outcome.argmax()}\")\n",
        "print(f\"The minimum index value from the previous outcome is {outcome.argmin()}\")"
      ],
      "metadata": {
        "id": "RjjKqktb-Sfp"
      },
      "execution_count": null,
      "outputs": []
    },
    {
      "cell_type": "markdown",
      "source": [
        "10. Make a random tensor with shape (1, 1, 1, 10) and then create a new tensor with all the 1 dimensions removed to be left with a tensor of shape (10). Set the seed to 7 when you create it and print out the first tensor and it's shape as well as the second tensor and it's shape."
      ],
      "metadata": {
        "id": "A6PWmTe92d65"
      }
    },
    {
      "cell_type": "code",
      "source": [
        "import torch\n",
        "\n",
        "# Set the seed for generating random numbers\n",
        "torch.manual_seed(7)\n",
        "\n",
        "# Create a random tensor with shape (1, 1, 1, 10)\n",
        "x = torch.randn(1, 1, 1, 10)\n",
        "\n",
        "# Remove all dimensions of size 1\n",
        "y = x.squeeze()\n",
        "\n",
        "# Print the original tensor and its shape\n",
        "print(\"Original tensor:\")\n",
        "print(x)\n",
        "print(f\"Shape: {x.shape}\")\n",
        "\n",
        "# Print the squeezed tensor and its shape\n",
        "print(\"Squeezed tensor:\")\n",
        "print(y)\n",
        "print(f\"Shape: {y.shape}\")\n"
      ],
      "metadata": {
        "id": "IpTNoKth_Bkk"
      },
      "execution_count": null,
      "outputs": []
    }
  ]
}